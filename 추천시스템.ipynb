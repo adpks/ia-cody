{
 "cells": [
  {
   "cell_type": "code",
   "execution_count": 6,
   "id": "21913005-c02d-4e53-9545-a13b1ee55d43",
   "metadata": {},
   "outputs": [
    {
     "name": "stdout",
     "output_type": "stream",
     "text": [
      "추천된 영화 목록:\n",
      "46          스프린터\n",
      "1           강남좀비\n",
      "2     별 볼일 없는 인생\n",
      "3       10일간의 애인\n",
      "4             교섭\n",
      "Name: 제목, dtype: object\n"
     ]
    }
   ],
   "source": [
    "import pandas as pd\n",
    "from sklearn.feature_extraction.text import CountVectorizer\n",
    "from sklearn.metrics.pairwise import cosine_similarity\n",
    "\n",
    "# 데이터 불러오기\n",
    "data = pd.read_csv('prob-0101 (1).csv')\n",
    "\n",
    "# 영화의 특징 결합 (장르 + 감독 + 출연진)\n",
    "data['features'] = data['장르'] + ' ' + data['감독'] + ' ' + data['출연진']\n",
    "\n",
    "# 텍스트를 숫자로 변환 (벡터화)\n",
    "vectorizer = CountVectorizer()\n",
    "feature_matrix = vectorizer.fit_transform(data['features'])\n",
    "\n",
    "# 영화 간의 유사도 계산 (코사인 유사도)\n",
    "cosine_sim = cosine_similarity(feature_matrix, feature_matrix)\n",
    "\n",
    "# 영화 추천 함수\n",
    "def recommend_movies(title, data, cosine_sim):\n",
    "    # 선택한 영화의 인덱스 찾기\n",
    "    idx = data[data['제목'] == title].index[0]\n",
    "    \n",
    "    # 해당 영화와 다른 영화들 간의 유사도 점수 가져오기\n",
    "    sim_scores = list(enumerate(cosine_sim[idx]))\n",
    "    sim_scores = sorted(sim_scores, key=lambda x: x[1], reverse=True)\n",
    "    \n",
    "    # 유사도가 높은 상위 5개 영화 추천\n",
    "    sim_indices = [i[0] for i in sim_scores[1:6]]\n",
    "    return data['제목'].iloc[sim_indices]\n",
    "\n",
    "# 예시: 특정 영화와 비슷한 영화 추천\n",
    "print(\"추천된 영화 목록:\")\n",
    "print(recommend_movies('스위치', data, cosine_sim))  # '스위치' 대신 다른 영화 제목을 넣어보세요!\n"
   ]
  },
  {
   "cell_type": "code",
   "execution_count": 9,
   "id": "4e4c6436-c308-4904-ba85-81f4ba3c2767",
   "metadata": {},
   "outputs": [
    {
     "name": "stdout",
     "output_type": "stream",
     "text": [
      "사용자 1에게 추천하는 영화:\n",
      "item_id\n",
      "육지것들                        5.0\n",
      "남자는 처음을 원하고 여자는 마지막을 원한다    5.0\n",
      "바람개비                        5.0\n",
      "Name: rating, dtype: float64\n"
     ]
    }
   ],
   "source": [
    "import pandas as pd\n",
    "import random\n",
    "\n",
    "# prob 데이터 불러오기\n",
    "data_path = 'prob-0101 (1).csv'\n",
    "prob_data = pd.read_csv(data_path)\n",
    "\n",
    "# 가상의 사용자 평점 데이터 생성\n",
    "random.seed(42)\n",
    "user_ids = [random.randint(1, 5) for _ in range(len(prob_data))]  # 사용자 ID (1~5)\n",
    "ratings = [random.randint(1, 5) for _ in range(len(prob_data))]  # 평점 (1~5)\n",
    "\n",
    "# 사용자 평점 데이터프레임 생성\n",
    "ratings_df = pd.DataFrame({\n",
    "    \"user_id\": user_ids,\n",
    "    \"item_id\": prob_data['제목'],\n",
    "    \"rating\": ratings\n",
    "})\n",
    "\n",
    "# 사용자 1이 이미 본 영화 찾기\n",
    "user_id = 1\n",
    "watched_movies = ratings_df[ratings_df['user_id'] == user_id]['item_id']\n",
    "\n",
    "# 사용자 1이 보지 않은 영화 중 평점이 높은 영화 추천\n",
    "unwatched_movies = ratings_df[~ratings_df['item_id'].isin(watched_movies)]\n",
    "top_recommendations = unwatched_movies.groupby('item_id')['rating'].mean().sort_values(ascending=False).head(3)\n",
    "\n",
    "# 결과 출력\n",
    "print(f\"사용자 {user_id}에게 추천하는 영화:\")\n",
    "print(top_recommendations)\n"
   ]
  },
  {
   "cell_type": "code",
   "execution_count": null,
   "id": "81585de1-b734-447a-9a6e-2c2e394d4676",
   "metadata": {},
   "outputs": [],
   "source": []
  },
  {
   "cell_type": "code",
   "execution_count": null,
   "id": "f0cea9df-18d5-4072-9479-0dcf391aa13b",
   "metadata": {},
   "outputs": [],
   "source": []
  }
 ],
 "metadata": {
  "kernelspec": {
   "display_name": "Python 3 (ipykernel)",
   "language": "python",
   "name": "python3"
  },
  "language_info": {
   "codemirror_mode": {
    "name": "ipython",
    "version": 3
   },
   "file_extension": ".py",
   "mimetype": "text/x-python",
   "name": "python",
   "nbconvert_exporter": "python",
   "pygments_lexer": "ipython3",
   "version": "3.12.7"
  }
 },
 "nbformat": 4,
 "nbformat_minor": 5
}
